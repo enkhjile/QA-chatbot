{
 "cells": [
  {
   "cell_type": "code",
   "execution_count": 1,
   "metadata": {},
   "outputs": [],
   "source": [
    "from modules.utils import load_config, load_model, load_context, evaluate"
   ]
  },
  {
   "cell_type": "code",
   "execution_count": 2,
   "metadata": {},
   "outputs": [],
   "source": [
    "MODEL_PATH = './models/model_state_dict_1500.pt'\n",
    "CONFIG_PATH = './models/config.yml'\n",
    "CONTEXT_PATH = './context.txt'"
   ]
  },
  {
   "cell_type": "markdown",
   "metadata": {},
   "source": [
    "## Load config file"
   ]
  },
  {
   "cell_type": "code",
   "execution_count": 3,
   "metadata": {},
   "outputs": [
    {
     "data": {
      "text/plain": [
       "{'model': {'num_tokens': 32000,\n",
       "  'dim': 512,\n",
       "  'depth': 12,\n",
       "  'max_seq_len': 256,\n",
       "  'heads': 8,\n",
       "  'casual': True,\n",
       "  'return_embeddings': True,\n",
       "  'num_label': 2},\n",
       " 'tokenizer': {'max_len': 256,\n",
       "  'mecab_dict': '/usr/lib/x86_64-linux-gnu/mecab/dic/mecab-ipadic-neologd',\n",
       "  'vocab': './models/mecab_vocab.txt'},\n",
       " 'predict': {'n_best_size': 1,\n",
       "  'doc_stride': 64,\n",
       "  'max_query_length': 64,\n",
       "  'max_answer_length': 30}}"
      ]
     },
     "execution_count": 3,
     "metadata": {},
     "output_type": "execute_result"
    }
   ],
   "source": [
    "config = load_config(CONFIG_PATH)\n",
    "config"
   ]
  },
  {
   "cell_type": "markdown",
   "metadata": {},
   "source": [
    "## Load model"
   ]
  },
  {
   "cell_type": "code",
   "execution_count": 4,
   "metadata": {},
   "outputs": [
    {
     "name": "stdout",
     "output_type": "stream",
     "text": [
      "==================================================\n",
      "Loading BOT...\n",
      "DONE!\n",
      "==================================================\n"
     ]
    }
   ],
   "source": [
    "model = load_model(config, model_path=MODEL_PATH)"
   ]
  },
  {
   "cell_type": "markdown",
   "metadata": {},
   "source": [
    "## Load context file"
   ]
  },
  {
   "cell_type": "code",
   "execution_count": 5,
   "metadata": {},
   "outputs": [
    {
     "data": {
      "text/plain": [
       "'その日、名古屋西区の片道二車線の道路で信号が赤になった。私はいつも通り先頭で止まり、ラッシュの時間だったこともあって、渋滞というほどではないくらいの混み具合で私の横、後ろには多くの車が信号待ちをしていた。音楽を聞きながら、歌いながら（いつも大きな声で歌ってました（＾ｏ＾；車の中で歌うのって本当に気持ちがいいんです！）。そして信号が青に変わる直前からギアをｌｏｗに入れて（ちなみにオートマです）サイドブレーキで停止を保っている状態。\\n'"
      ]
     },
     "execution_count": 5,
     "metadata": {},
     "output_type": "execute_result"
    }
   ],
   "source": [
    "context = load_context(CONTEXT_PATH)\n",
    "context"
   ]
  },
  {
   "cell_type": "code",
   "execution_count": 6,
   "metadata": {},
   "outputs": [],
   "source": [
    "question = '走行したのは誰ですか？'"
   ]
  },
  {
   "cell_type": "code",
   "execution_count": 7,
   "metadata": {},
   "outputs": [
    {
     "name": "stdout",
     "output_type": "stream",
     "text": [
      "YOU>  走行したのは誰ですか？\n",
      "BOT>  私\n"
     ]
    }
   ],
   "source": [
    "evaluate(\n",
    "    question=question,\n",
    "    context=context,\n",
    "    model=model,\n",
    "    config=config\n",
    ")"
   ]
  },
  {
   "cell_type": "code",
   "execution_count": null,
   "metadata": {},
   "outputs": [
    {
     "name": "stdout",
     "output_type": "stream",
     "text": [
      "YOU>  混み具合っていたのはどこですか？\n"
     ]
    }
   ],
   "source": [
    "question = '混み具合っていたのはどこですか？'\n",
    "evaluate(\n",
    "    question=question,\n",
    "    context=context,\n",
    "    model=model,\n",
    "    config=config\n",
    ")"
   ]
  },
  {
   "cell_type": "code",
   "execution_count": null,
   "metadata": {},
   "outputs": [],
   "source": [
    "question = '音楽を聞きながら、歌いながら行ったのは誰ですか？'\n",
    "evaluate(\n",
    "    question=question,\n",
    "    context=context,\n",
    "    model=model,\n",
    "    config=config\n",
    ")"
   ]
  },
  {
   "cell_type": "code",
   "execution_count": null,
   "metadata": {},
   "outputs": [],
   "source": [
    "question = '信号がどうなった？'\n",
    "evaluate(\n",
    "    question=question,\n",
    "    context=context,\n",
    "    model=model,\n",
    "    config=config\n",
    ")"
   ]
  },
  {
   "cell_type": "code",
   "execution_count": null,
   "metadata": {},
   "outputs": [],
   "source": []
  }
 ],
 "metadata": {
  "kernelspec": {
   "display_name": "Python 3",
   "language": "python",
   "name": "python3"
  },
  "language_info": {
   "codemirror_mode": {
    "name": "ipython",
    "version": 3
   },
   "file_extension": ".py",
   "mimetype": "text/x-python",
   "name": "python",
   "nbconvert_exporter": "python",
   "pygments_lexer": "ipython3",
   "version": "3.6.9"
  }
 },
 "nbformat": 4,
 "nbformat_minor": 2
}
